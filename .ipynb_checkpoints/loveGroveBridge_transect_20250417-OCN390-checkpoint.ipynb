{
 "cells": [
  {
   "cell_type": "markdown",
   "id": "58dae215-95ae-46b7-bcc0-7a5a373e4297",
   "metadata": {},
   "source": [
    "# Smith and Burnt Mill Creeks Salinity Sections\n",
    "Goal: produce section plots using profiles from across a creek, river, or other section/transect."
   ]
  },
  {
   "cell_type": "code",
   "execution_count": null,
   "id": "e4b4c532-08d2-47e3-950c-d7473b174711",
   "metadata": {
    "tags": []
   },
   "outputs": [],
   "source": [
    "import pandas as pd\n",
    "import numpy as np \n",
    "import os\n",
    "import matplotlib.pyplot as plt\n",
    "import cmocean as cm\n",
    "\n",
    "from scipy.interpolate import griddata"
   ]
  },
  {
   "cell_type": "markdown",
   "id": "bdb1a960-2911-4fe1-a96c-be49fcf3a88c",
   "metadata": {},
   "source": [
    "### Find data in correct folder, see test file\n",
    "Use Smith Creek Transect/CC1320002_20221214_170547.csv for wedge test\n"
   ]
  },
  {
   "cell_type": "code",
   "execution_count": null,
   "id": "fa29c458-fa5f-4f8a-8042-a5d21acd8ad5",
   "metadata": {
    "tags": []
   },
   "outputs": [],
   "source": [
    "# First navigate to data\n",
    "folderpath = os.path.join('Data', 'Love Grove Bridge CastAway OCN 390')\n",
    "filepath = os.path.join(folderpath, 'all casts lgb 31.3.25 (upcasts only).csv')\n",
    "filepath"
   ]
  },
  {
   "cell_type": "code",
   "execution_count": null,
   "id": "c6b1c627-5055-48c9-9f7f-2d11045d1025",
   "metadata": {
    "tags": []
   },
   "outputs": [],
   "source": [
    "# Read in data and print out first few rows for quick examination\n",
    "df_full = pd.read_csv(filepath, header = 0)\n",
    "df_full.head()"
   ]
  },
  {
   "cell_type": "code",
   "execution_count": null,
   "id": "cede6721-41c4-4cc1-8570-4b957d0728c4",
   "metadata": {
    "tags": []
   },
   "outputs": [],
   "source": [
    "# Plot casts\n",
    "fig, axs = plt.subplots(figsize = (10, 10))\n",
    "\n",
    "axs.plot(df_full['Salinity (PSU)'], df_full['Depth (m)'])\n",
    "\n",
    "axs.set_ylabel('Depth (m)')\n",
    "axs.set_xlabel('Salinity (PSU)')\n",
    "plt.gca().invert_yaxis() # Flip the y-axis\n",
    "\n",
    "figname = os.path.join('Figs-and-Animations', \"LGB_Profiles.png\")\n",
    "plt.savefig(figname, dpi = 300, transparent = True)"
   ]
  },
  {
   "cell_type": "code",
   "execution_count": null,
   "id": "3e89eb79-3320-4dde-a67a-c5a5a5bd4fa9",
   "metadata": {
    "tags": []
   },
   "outputs": [],
   "source": [
    "n_grid = 100\n",
    "\n",
    "salinity = df_full['Salinity (PSU)']\n",
    "distance = df_full['cast #']\n",
    "depth = df_full['Depth (m)']\n",
    "\n",
    "plotVar = salinity\n",
    "\n",
    "dist_vec_unique = np.linspace(np.min(distance), np.max(distance), n_grid) # just for gridding\n",
    "depth_vec_unique = np.linspace(np.min(depth), np.max(depth), n_grid) # just for gridding\n",
    "\n",
    "dist_grid, depth_grid = np.meshgrid(dist_vec_unique, depth_vec_unique)\n",
    "plotVar_grid = griddata((distance, depth), plotVar, (dist_grid, depth_grid), method = 'linear')"
   ]
  },
  {
   "cell_type": "code",
   "execution_count": null,
   "id": "fa0c6904-7718-4f27-ac29-650e2fdfa3a4",
   "metadata": {
    "tags": []
   },
   "outputs": [],
   "source": [
    "fig, axs = plt.subplots(figsize = (10, 10))\n",
    "my_cmap = cm.cm.haline # use cmocean colormaps; select for relevant parameter\n",
    "im = plt.contourf(dist_grid, depth_grid, plotVar_grid, levels = 40, cmap = my_cmap)#, levels = cvec, cmap=myCM, extend=\"both\"))\n",
    "\n",
    "sc = plt.scatter(distance, depth, c = 'black', s = 5, alpha = 1)\n",
    "#                cmap=myCM, alpha = 1, vmin=vmn, vmax=vmx)\n",
    "\n",
    "axs.set_ylabel('Depth (m)')\n",
    "axs.set_xlabel('Distance (contrived; roughly meters across bridge)')\n",
    "plt.gca().invert_yaxis() # Flip the y-axis\n",
    "# plt.gca().invert_xaxis() # Flip the x-axis for now, since Cape Fear River is W edge\n",
    "\n",
    "cbar = fig.colorbar(im)\n",
    "cbar.ax.set_ylabel('Salinity (PSU)')\n",
    "\n",
    "figname = os.path.join('Figs-and-Animations', \"LGB_transect.png\")\n",
    "plt.savefig(figname, dpi = 300, transparent = True)"
   ]
  },
  {
   "cell_type": "code",
   "execution_count": null,
   "id": "49a3f483-2ec0-47c5-82d1-c1901f3c47e7",
   "metadata": {},
   "outputs": [],
   "source": []
  }
 ],
 "metadata": {
  "kernelspec": {
   "display_name": "Python 3 (ipykernel)",
   "language": "python",
   "name": "python3"
  },
  "language_info": {
   "codemirror_mode": {
    "name": "ipython",
    "version": 3
   },
   "file_extension": ".py",
   "mimetype": "text/x-python",
   "name": "python",
   "nbconvert_exporter": "python",
   "pygments_lexer": "ipython3",
   "version": "3.11.7"
  }
 },
 "nbformat": 4,
 "nbformat_minor": 5
}
